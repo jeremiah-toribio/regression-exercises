{
 "cells": [
  {
   "cell_type": "code",
   "execution_count": 1,
   "metadata": {},
   "outputs": [],
   "source": [
    "import env\n",
    "import os\n",
    "import wrangle as w\n",
    "# Ignore Warning\n",
    "import warnings\n",
    "warnings.filterwarnings(\"ignore\")\n",
    "# Array and Dataframes\n",
    "import numpy as np\n",
    "import pandas as pd\n",
    "# Imputer\n",
    "from sklearn.impute import SimpleImputer\n",
    "# Evaluation: Visualization\n",
    "import seaborn as sns\n",
    "import matplotlib.pyplot as plt\n",
    "plt.style.use('fivethirtyeight')\n",
    "# Evaluation: Statistical Analysis\n",
    "from scipy import stats\n",
    "# Modeling: Scaling\n",
    "from sklearn.preprocessing import QuantileTransformer, MinMaxScaler, StandardScaler, RobustScaler\n",
    "from sklearn.model_selection import train_test_split\n",
    "# Modeling\n",
    "from sklearn.linear_model import LinearRegression as lr\n",
    "from sklearn.model_selection import GridSearchCV\n",
    "# Metrics\n",
    "from sklearn.metrics import r2_score, mean_squared_error, explained_variance_score"
   ]
  },
  {
   "cell_type": "markdown",
   "metadata": {},
   "source": [
    "### 1. Load your zillow dataset."
   ]
  },
  {
   "cell_type": "code",
   "execution_count": 2,
   "metadata": {},
   "outputs": [
    {
     "name": "stdout",
     "output_type": "stream",
     "text": [
      "No file exists, extracting from MySQL.\n"
     ]
    }
   ],
   "source": [
    "zillow = w.zillow()"
   ]
  },
  {
   "cell_type": "code",
   "execution_count": 3,
   "metadata": {},
   "outputs": [
    {
     "name": "stdout",
     "output_type": "stream",
     "text": [
      "Dataframe: (2140235, 6) 100%\n",
      "Train: (1369750, 6) | ~60%\n",
      "Validate: (342438, 6) | ~20%\n",
      "Test: (428047, 6) | ~20%\n"
     ]
    }
   ],
   "source": [
    "train, validate, test = w.splitter(zillow)"
   ]
  },
  {
   "cell_type": "code",
   "execution_count": 4,
   "metadata": {},
   "outputs": [
    {
     "data": {
      "text/html": [
       "<div>\n",
       "<style scoped>\n",
       "    .dataframe tbody tr th:only-of-type {\n",
       "        vertical-align: middle;\n",
       "    }\n",
       "\n",
       "    .dataframe tbody tr th {\n",
       "        vertical-align: top;\n",
       "    }\n",
       "\n",
       "    .dataframe thead th {\n",
       "        text-align: right;\n",
       "    }\n",
       "</style>\n",
       "<table border=\"1\" class=\"dataframe\">\n",
       "  <thead>\n",
       "    <tr style=\"text-align: right;\">\n",
       "      <th></th>\n",
       "      <th>bedroomcnt</th>\n",
       "      <th>bathroomcnt</th>\n",
       "      <th>sq_feet</th>\n",
       "      <th>tax_value</th>\n",
       "      <th>yearbuilt</th>\n",
       "      <th>county</th>\n",
       "    </tr>\n",
       "  </thead>\n",
       "  <tbody>\n",
       "    <tr>\n",
       "      <th>353297</th>\n",
       "      <td>4</td>\n",
       "      <td>2.0</td>\n",
       "      <td>1834</td>\n",
       "      <td>520117</td>\n",
       "      <td>1969</td>\n",
       "      <td>Orange</td>\n",
       "    </tr>\n",
       "    <tr>\n",
       "      <th>1185246</th>\n",
       "      <td>3</td>\n",
       "      <td>2.0</td>\n",
       "      <td>1694</td>\n",
       "      <td>378680</td>\n",
       "      <td>1949</td>\n",
       "      <td>LA</td>\n",
       "    </tr>\n",
       "    <tr>\n",
       "      <th>452922</th>\n",
       "      <td>4</td>\n",
       "      <td>3.0</td>\n",
       "      <td>2295</td>\n",
       "      <td>432768</td>\n",
       "      <td>1978</td>\n",
       "      <td>Ventura</td>\n",
       "    </tr>\n",
       "    <tr>\n",
       "      <th>163875</th>\n",
       "      <td>3</td>\n",
       "      <td>2.0</td>\n",
       "      <td>2182</td>\n",
       "      <td>393305</td>\n",
       "      <td>1969</td>\n",
       "      <td>LA</td>\n",
       "    </tr>\n",
       "    <tr>\n",
       "      <th>27042</th>\n",
       "      <td>4</td>\n",
       "      <td>2.0</td>\n",
       "      <td>2187</td>\n",
       "      <td>131101</td>\n",
       "      <td>1945</td>\n",
       "      <td>LA</td>\n",
       "    </tr>\n",
       "  </tbody>\n",
       "</table>\n",
       "</div>"
      ],
      "text/plain": [
       "         bedroomcnt  bathroomcnt  sq_feet  tax_value  yearbuilt   county\n",
       "353297            4          2.0     1834     520117       1969   Orange\n",
       "1185246           3          2.0     1694     378680       1949       LA\n",
       "452922            4          3.0     2295     432768       1978  Ventura\n",
       "163875            3          2.0     2182     393305       1969       LA\n",
       "27042             4          2.0     2187     131101       1945       LA"
      ]
     },
     "execution_count": 4,
     "metadata": {},
     "output_type": "execute_result"
    }
   ],
   "source": [
    "train.head()"
   ]
  },
  {
   "cell_type": "markdown",
   "metadata": {},
   "source": [
    "### 2. Fit a linear regression model (ordinary least squares) and compute yhat, predictions of taxvaluedollarcnt using only calculatedfinishedsqft."
   ]
  },
  {
   "cell_type": "code",
   "execution_count": 30,
   "metadata": {},
   "outputs": [],
   "source": [
    "x_train = train[['sq_feet']]\n",
    "y_train = train['tax_value']\n",
    "x_validate = validate[['sq_feet']]\n",
    "y_validate = validate['tax_value']\n",
    "x_test = test[['sq_feet']]\n",
    "y_test = test['tax_value']\n"
   ]
  },
  {
   "cell_type": "code",
   "execution_count": 31,
   "metadata": {},
   "outputs": [],
   "source": [
    "mms = MinMaxScaler()"
   ]
  },
  {
   "cell_type": "code",
   "execution_count": 38,
   "metadata": {},
   "outputs": [
    {
     "data": {
      "text/html": [
       "<div>\n",
       "<style scoped>\n",
       "    .dataframe tbody tr th:only-of-type {\n",
       "        vertical-align: middle;\n",
       "    }\n",
       "\n",
       "    .dataframe tbody tr th {\n",
       "        vertical-align: top;\n",
       "    }\n",
       "\n",
       "    .dataframe thead th {\n",
       "        text-align: right;\n",
       "    }\n",
       "</style>\n",
       "<table border=\"1\" class=\"dataframe\">\n",
       "  <thead>\n",
       "    <tr style=\"text-align: right;\">\n",
       "      <th></th>\n",
       "      <th>sq_feet</th>\n",
       "    </tr>\n",
       "  </thead>\n",
       "  <tbody>\n",
       "    <tr>\n",
       "      <th>353297</th>\n",
       "      <td>1834</td>\n",
       "    </tr>\n",
       "    <tr>\n",
       "      <th>1185246</th>\n",
       "      <td>1694</td>\n",
       "    </tr>\n",
       "    <tr>\n",
       "      <th>452922</th>\n",
       "      <td>2295</td>\n",
       "    </tr>\n",
       "    <tr>\n",
       "      <th>163875</th>\n",
       "      <td>2182</td>\n",
       "    </tr>\n",
       "    <tr>\n",
       "      <th>27042</th>\n",
       "      <td>2187</td>\n",
       "    </tr>\n",
       "    <tr>\n",
       "      <th>...</th>\n",
       "      <td>...</td>\n",
       "    </tr>\n",
       "    <tr>\n",
       "      <th>1324400</th>\n",
       "      <td>2745</td>\n",
       "    </tr>\n",
       "    <tr>\n",
       "      <th>1379871</th>\n",
       "      <td>1782</td>\n",
       "    </tr>\n",
       "    <tr>\n",
       "      <th>1679286</th>\n",
       "      <td>1240</td>\n",
       "    </tr>\n",
       "    <tr>\n",
       "      <th>335945</th>\n",
       "      <td>1116</td>\n",
       "    </tr>\n",
       "    <tr>\n",
       "      <th>526690</th>\n",
       "      <td>1166</td>\n",
       "    </tr>\n",
       "  </tbody>\n",
       "</table>\n",
       "<p>1369750 rows × 1 columns</p>\n",
       "</div>"
      ],
      "text/plain": [
       "         sq_feet\n",
       "353297      1834\n",
       "1185246     1694\n",
       "452922      2295\n",
       "163875      2182\n",
       "27042       2187\n",
       "...          ...\n",
       "1324400     2745\n",
       "1379871     1782\n",
       "1679286     1240\n",
       "335945      1116\n",
       "526690      1166\n",
       "\n",
       "[1369750 rows x 1 columns]"
      ]
     },
     "execution_count": 38,
     "metadata": {},
     "output_type": "execute_result"
    }
   ],
   "source": [
    "x_train"
   ]
  },
  {
   "cell_type": "code",
   "execution_count": 41,
   "metadata": {},
   "outputs": [],
   "source": [
    "x_train['sq_feet'] = mms.fit_transform(x_train[['sq_feet']])"
   ]
  },
  {
   "cell_type": "code",
   "execution_count": 42,
   "metadata": {},
   "outputs": [
    {
     "data": {
      "text/html": [
       "<div>\n",
       "<style scoped>\n",
       "    .dataframe tbody tr th:only-of-type {\n",
       "        vertical-align: middle;\n",
       "    }\n",
       "\n",
       "    .dataframe tbody tr th {\n",
       "        vertical-align: top;\n",
       "    }\n",
       "\n",
       "    .dataframe thead th {\n",
       "        text-align: right;\n",
       "    }\n",
       "</style>\n",
       "<table border=\"1\" class=\"dataframe\">\n",
       "  <thead>\n",
       "    <tr style=\"text-align: right;\">\n",
       "      <th></th>\n",
       "      <th>sq_feet</th>\n",
       "    </tr>\n",
       "  </thead>\n",
       "  <tbody>\n",
       "    <tr>\n",
       "      <th>353297</th>\n",
       "      <td>0.001924</td>\n",
       "    </tr>\n",
       "    <tr>\n",
       "      <th>1185246</th>\n",
       "      <td>0.001777</td>\n",
       "    </tr>\n",
       "    <tr>\n",
       "      <th>452922</th>\n",
       "      <td>0.002408</td>\n",
       "    </tr>\n",
       "    <tr>\n",
       "      <th>163875</th>\n",
       "      <td>0.002290</td>\n",
       "    </tr>\n",
       "    <tr>\n",
       "      <th>27042</th>\n",
       "      <td>0.002295</td>\n",
       "    </tr>\n",
       "    <tr>\n",
       "      <th>...</th>\n",
       "      <td>...</td>\n",
       "    </tr>\n",
       "    <tr>\n",
       "      <th>1324400</th>\n",
       "      <td>0.002881</td>\n",
       "    </tr>\n",
       "    <tr>\n",
       "      <th>1379871</th>\n",
       "      <td>0.001870</td>\n",
       "    </tr>\n",
       "    <tr>\n",
       "      <th>1679286</th>\n",
       "      <td>0.001301</td>\n",
       "    </tr>\n",
       "    <tr>\n",
       "      <th>335945</th>\n",
       "      <td>0.001171</td>\n",
       "    </tr>\n",
       "    <tr>\n",
       "      <th>526690</th>\n",
       "      <td>0.001223</td>\n",
       "    </tr>\n",
       "  </tbody>\n",
       "</table>\n",
       "<p>1369750 rows × 1 columns</p>\n",
       "</div>"
      ],
      "text/plain": [
       "          sq_feet\n",
       "353297   0.001924\n",
       "1185246  0.001777\n",
       "452922   0.002408\n",
       "163875   0.002290\n",
       "27042    0.002295\n",
       "...           ...\n",
       "1324400  0.002881\n",
       "1379871  0.001870\n",
       "1679286  0.001301\n",
       "335945   0.001171\n",
       "526690   0.001223\n",
       "\n",
       "[1369750 rows x 1 columns]"
      ]
     },
     "execution_count": 42,
     "metadata": {},
     "output_type": "execute_result"
    }
   ],
   "source": [
    "x_train"
   ]
  },
  {
   "cell_type": "code",
   "execution_count": 45,
   "metadata": {},
   "outputs": [],
   "source": [
    "model = lr().fit(x_train, y_train)\n",
    "predictions = model.predict(x_train)"
   ]
  },
  {
   "cell_type": "code",
   "execution_count": 46,
   "metadata": {},
   "outputs": [
    {
     "data": {
      "text/html": [
       "<div>\n",
       "<style scoped>\n",
       "    .dataframe tbody tr th:only-of-type {\n",
       "        vertical-align: middle;\n",
       "    }\n",
       "\n",
       "    .dataframe tbody tr th {\n",
       "        vertical-align: top;\n",
       "    }\n",
       "\n",
       "    .dataframe thead th {\n",
       "        text-align: right;\n",
       "    }\n",
       "</style>\n",
       "<table border=\"1\" class=\"dataframe\">\n",
       "  <thead>\n",
       "    <tr style=\"text-align: right;\">\n",
       "      <th></th>\n",
       "      <th>sq_feet</th>\n",
       "      <th>baseline</th>\n",
       "      <th>yhat</th>\n",
       "    </tr>\n",
       "  </thead>\n",
       "  <tbody>\n",
       "    <tr>\n",
       "      <th>353297</th>\n",
       "      <td>0.001924</td>\n",
       "      <td>0.001955</td>\n",
       "      <td>453696.383060</td>\n",
       "    </tr>\n",
       "    <tr>\n",
       "      <th>1185246</th>\n",
       "      <td>0.001777</td>\n",
       "      <td>0.001955</td>\n",
       "      <td>418354.710808</td>\n",
       "    </tr>\n",
       "    <tr>\n",
       "      <th>452922</th>\n",
       "      <td>0.002408</td>\n",
       "      <td>0.001955</td>\n",
       "      <td>570071.460973</td>\n",
       "    </tr>\n",
       "    <tr>\n",
       "      <th>163875</th>\n",
       "      <td>0.002290</td>\n",
       "      <td>0.001955</td>\n",
       "      <td>541545.682656</td>\n",
       "    </tr>\n",
       "    <tr>\n",
       "      <th>27042</th>\n",
       "      <td>0.002295</td>\n",
       "      <td>0.001955</td>\n",
       "      <td>542807.885237</td>\n",
       "    </tr>\n",
       "  </tbody>\n",
       "</table>\n",
       "</div>"
      ],
      "text/plain": [
       "          sq_feet  baseline           yhat\n",
       "353297   0.001924  0.001955  453696.383060\n",
       "1185246  0.001777  0.001955  418354.710808\n",
       "452922   0.002408  0.001955  570071.460973\n",
       "163875   0.002290  0.001955  541545.682656\n",
       "27042    0.002295  0.001955  542807.885237"
      ]
     },
     "execution_count": 46,
     "metadata": {},
     "output_type": "execute_result"
    }
   ],
   "source": [
    "baseline = x_train.sq_feet.mean()\n",
    "baseline\n",
    "x_train['baseline'] = baseline\n",
    "\n",
    "x_train['yhat'] = predictions\n",
    "\n",
    "x_train.head()"
   ]
  },
  {
   "cell_type": "markdown",
   "metadata": {},
   "source": [
    "### 3. Plot the residuals for the linear regression model that you made."
   ]
  },
  {
   "cell_type": "code",
   "execution_count": 47,
   "metadata": {},
   "outputs": [
    {
     "data": {
      "image/png": "[encoded data removed]",
      "text/plain": [
       "<Figure size 640x480 with 1 Axes>"
      ]
     },
     "metadata": {},
     "output_type": "display_data"
    }
   ],
   "source": [
    "# visualizing x_train and y_train with baseline\n",
    "plt.scatter(x_train.sq_feet, y_train)\n",
    "plt.axhline([[baseline]], ls=':')\n",
    "plt.show()"
   ]
  },
  {
   "cell_type": "code",
   "execution_count": 48,
   "metadata": {},
   "outputs": [
    {
     "data": {
      "image/png": "[encoded data removed]",
      "text/plain": [
       "<Figure size 640x480 with 1 Axes>"
      ]
     },
     "metadata": {},
     "output_type": "display_data"
    }
   ],
   "source": [
    "# visualizing residuals\n",
    "plt.scatter(x_train.sq_feet,y_train)\n",
    "\n",
    "plt.plot(y_train,x_train.yhat)\n",
    "\n",
    "plt.show()"
   ]
  },
  {
   "cell_type": "markdown",
   "metadata": {},
   "source": [
    "### 4. Calculate the sum of squared errors, explained sum of squares, total sum of squares, mean squared error, and root mean squared error for your model.\n",
    "\n",
    "### 5. Calculate the sum of squared errors, mean squared error, and root mean squared error for the baseline model (i.e. a model that always predicts the average taxvaluedollarcnt amount)."
   ]
  },
  {
   "cell_type": "code",
   "execution_count": 49,
   "metadata": {},
   "outputs": [],
   "source": [
    "# finding residuals\n",
    "x_train['residuals'] = x_train['sq_feet'] - predictions\n",
    "x_train['residuals_baseline'] = x_train['sq_feet'] - baseline"
   ]
  },
  {
   "cell_type": "code",
   "execution_count": 52,
   "metadata": {},
   "outputs": [
    {
     "data": {
      "text/html": [
       "<div>\n",
       "<style scoped>\n",
       "    .dataframe tbody tr th:only-of-type {\n",
       "        vertical-align: middle;\n",
       "    }\n",
       "\n",
       "    .dataframe tbody tr th {\n",
       "        vertical-align: top;\n",
       "    }\n",
       "\n",
       "    .dataframe thead th {\n",
       "        text-align: right;\n",
       "    }\n",
       "</style>\n",
       "<table border=\"1\" class=\"dataframe\">\n",
       "  <thead>\n",
       "    <tr style=\"text-align: right;\">\n",
       "      <th></th>\n",
       "      <th>sq_feet</th>\n",
       "      <th>baseline</th>\n",
       "      <th>yhat</th>\n",
       "      <th>residuals</th>\n",
       "      <th>residuals_baseline</th>\n",
       "      <th>residuals_squared</th>\n",
       "      <th>residuals_baseline_squared</th>\n",
       "    </tr>\n",
       "  </thead>\n",
       "  <tbody>\n",
       "    <tr>\n",
       "      <th>353297</th>\n",
       "      <td>0.001924</td>\n",
       "      <td>0.001955</td>\n",
       "      <td>453696.383060</td>\n",
       "      <td>-453696.381135</td>\n",
       "      <td>-0.000031</td>\n",
       "      <td>2.058404e+11</td>\n",
       "      <td>9.521014e-10</td>\n",
       "    </tr>\n",
       "    <tr>\n",
       "      <th>1185246</th>\n",
       "      <td>0.001777</td>\n",
       "      <td>0.001955</td>\n",
       "      <td>418354.710808</td>\n",
       "      <td>-418354.709031</td>\n",
       "      <td>-0.000178</td>\n",
       "      <td>1.750207e+11</td>\n",
       "      <td>3.162216e-08</td>\n",
       "    </tr>\n",
       "    <tr>\n",
       "      <th>452922</th>\n",
       "      <td>0.002408</td>\n",
       "      <td>0.001955</td>\n",
       "      <td>570071.460973</td>\n",
       "      <td>-570071.458565</td>\n",
       "      <td>0.000453</td>\n",
       "      <td>3.249815e+11</td>\n",
       "      <td>2.052953e-07</td>\n",
       "    </tr>\n",
       "    <tr>\n",
       "      <th>163875</th>\n",
       "      <td>0.002290</td>\n",
       "      <td>0.001955</td>\n",
       "      <td>541545.682656</td>\n",
       "      <td>-541545.680367</td>\n",
       "      <td>0.000334</td>\n",
       "      <td>2.932717e+11</td>\n",
       "      <td>1.118698e-07</td>\n",
       "    </tr>\n",
       "    <tr>\n",
       "      <th>27042</th>\n",
       "      <td>0.002295</td>\n",
       "      <td>0.001955</td>\n",
       "      <td>542807.885237</td>\n",
       "      <td>-542807.882942</td>\n",
       "      <td>0.000340</td>\n",
       "      <td>2.946404e+11</td>\n",
       "      <td>1.154086e-07</td>\n",
       "    </tr>\n",
       "  </tbody>\n",
       "</table>\n",
       "</div>"
      ],
      "text/plain": [
       "          sq_feet  baseline           yhat      residuals  residuals_baseline  \\\n",
       "353297   0.001924  0.001955  453696.383060 -453696.381135           -0.000031   \n",
       "1185246  0.001777  0.001955  418354.710808 -418354.709031           -0.000178   \n",
       "452922   0.002408  0.001955  570071.460973 -570071.458565            0.000453   \n",
       "163875   0.002290  0.001955  541545.682656 -541545.680367            0.000334   \n",
       "27042    0.002295  0.001955  542807.885237 -542807.882942            0.000340   \n",
       "\n",
       "         residuals_squared  residuals_baseline_squared  \n",
       "353297        2.058404e+11                9.521014e-10  \n",
       "1185246       1.750207e+11                3.162216e-08  \n",
       "452922        3.249815e+11                2.052953e-07  \n",
       "163875        2.932717e+11                1.118698e-07  \n",
       "27042         2.946404e+11                1.154086e-07  "
      ]
     },
     "execution_count": 52,
     "metadata": {},
     "output_type": "execute_result"
    }
   ],
   "source": [
    "x_train['residuals_squared'] = x_train.residuals ** 2\n",
    "x_train['residuals_baseline_squared'] = x_train.residuals_baseline ** 2\n",
    "x_train.head()"
   ]
  },
  {
   "cell_type": "markdown",
   "metadata": {},
   "source": [
    "Adding residuals to find **sum of squared errors (SSE)**  "
   ]
  },
  {
   "cell_type": "code",
   "execution_count": 53,
   "metadata": {},
   "outputs": [],
   "source": [
    "SSE = x_train.residuals_squared.sum()\n",
    "SSE_baseline = x_train.residuals_baseline_squared.sum()"
   ]
  },
  {
   "cell_type": "code",
   "execution_count": 54,
   "metadata": {},
   "outputs": [
    {
     "name": "stdout",
     "output_type": "stream",
     "text": [
      "SSE = 431458463630747712.0\n",
      "SSE Baseline = 2.4\n"
     ]
    }
   ],
   "source": [
    "print('SSE =', \"{:.1f}\".format(SSE))\n",
    "print(\"SSE Baseline =\", \"{:.1f}\".format(SSE_baseline))"
   ]
  },
  {
   "cell_type": "markdown",
   "metadata": {},
   "source": [
    "**Mean Squared Errors (MSE)**"
   ]
  },
  {
   "cell_type": "code",
   "execution_count": 55,
   "metadata": {},
   "outputs": [],
   "source": [
    "MSE = SSE /len(x_train)\n",
    "MSE_baseline = SSE_baseline/len(x_train)"
   ]
  },
  {
   "cell_type": "code",
   "execution_count": 56,
   "metadata": {},
   "outputs": [
    {
     "name": "stdout",
     "output_type": "stream",
     "text": [
      "MSE = 314990665180.3\n",
      "MSE baseline = 0.0\n"
     ]
    }
   ],
   "source": [
    "print(f'MSE = {MSE:.1f}')\n",
    "print(f\"MSE baseline = {MSE_baseline:.1f}\")"
   ]
  },
  {
   "cell_type": "markdown",
   "metadata": {},
   "source": [
    "**Root Mean Squared Error (RMSE)**"
   ]
  },
  {
   "cell_type": "code",
   "execution_count": 57,
   "metadata": {},
   "outputs": [],
   "source": [
    "RMSE = MSE ** .5\n",
    "RMSE_baseline = MSE_baseline ** .5"
   ]
  },
  {
   "cell_type": "code",
   "execution_count": 58,
   "metadata": {},
   "outputs": [
    {
     "name": "stdout",
     "output_type": "stream",
     "text": [
      "RMSE =  561240.3\n",
      "RMSE baseline =  0.0\n"
     ]
    }
   ],
   "source": [
    "print(\"RMSE = \", \"{:.1f}\".format(RMSE))\n",
    "print(\"RMSE baseline = \", \"{:.1f}\".format(RMSE_baseline))"
   ]
  },
  {
   "cell_type": "markdown",
   "metadata": {},
   "source": [
    "*Using SKLearn*"
   ]
  },
  {
   "cell_type": "code",
   "execution_count": 59,
   "metadata": {},
   "outputs": [
    {
     "data": {
      "text/plain": [
       "0.21885362653938845"
      ]
     },
     "execution_count": 59,
     "metadata": {},
     "output_type": "execute_result"
    }
   ],
   "source": [
    "r2_score(y_train, x_train['yhat'])"
   ]
  },
  {
   "cell_type": "markdown",
   "metadata": {},
   "source": [
    "### 6. Write python code that compares the sum of squared errors for your model against the sum of squared errors for the baseline model and outputs whether or not your model performs better than the baseline model."
   ]
  },
  {
   "cell_type": "code",
   "execution_count": 68,
   "metadata": {},
   "outputs": [
    {
     "name": "stdout",
     "output_type": "stream",
     "text": [
      "The model is not performing better than baseline with an SSE of:2.4247409518714056 \n",
      "SSE for model is:4.314584636307477e+17\n"
     ]
    }
   ],
   "source": [
    "def compare_SSE(SSE, SSE_baseline):\n",
    "    '''\n",
    "    compares model and baseline metrics to return whether a model is better or not\n",
    "    '''\n",
    "\n",
    "    if SSE < SSE_baseline:\n",
    "        print(f'The model is performing better than baseline with an SSE of:{SSE} \\nSSE for baseline is:{SSE}')\n",
    "    else:\n",
    "        print(f'The model is not performing better than baseline with an SSE of:{SSE_baseline} \\nSSE for model is:{SSE}')\n",
    "    return\n",
    "\n",
    "compare_SSE(SSE, SSE_baseline)"
   ]
  },
  {
   "cell_type": "markdown",
   "metadata": {},
   "source": [
    "### 7. What is the amount of variance explained in your model?"
   ]
  },
  {
   "cell_type": "code",
   "execution_count": 67,
   "metadata": {},
   "outputs": [
    {
     "name": "stdout",
     "output_type": "stream",
     "text": [
      "0.22\n",
      "0.22\n"
     ]
    }
   ],
   "source": [
    "# variance explained is also Mean_squared_error\n",
    "print(explained_variance_score(y_train,x_train.yhat).round(2))\n",
    "print(r2_score(y_train,x_train.yhat).round(2))"
   ]
  },
  {
   "cell_type": "markdown",
   "metadata": {},
   "source": [
    "### 8. Is your model better than the baseline model?"
   ]
  },
  {
   "cell_type": "code",
   "execution_count": 62,
   "metadata": {},
   "outputs": [],
   "source": [
    "#### No, likely due to outliers."
   ]
  },
  {
   "cell_type": "markdown",
   "metadata": {},
   "source": [
    "### 9. Create a file named evaluate.py that contains the following functions.\n",
    "\n",
    "- plot_residuals(y, yhat): creates a residual plot\n",
    "- regression_errors(y, yhat): returns the following values:\n",
    "- -  sum of squared errors (SSE)\n",
    "- - explained sum of squares (ESS)\n",
    "- - total sum of squares (TSS)\n",
    "- - mean squared error (MSE)\n",
    "- - root mean squared error (RMSE)\n",
    "- baseline_mean_errors(y): computes the SSE, MSE, and RMSE for the baseline model\n",
    "- better_than_baseline(y, yhat): returns true if your model performs better than the baseline, otherwise false"
   ]
  },
  {
   "cell_type": "code",
   "execution_count": 137,
   "metadata": {},
   "outputs": [],
   "source": [
    "def regression_errors(x_train, y_train, yhat, baseline='mean'):\n",
    "    '''\n",
    "    '''\n",
    "    if baseline == 'mean':\n",
    "        baseline = x_train.mean()\n",
    "    else:\n",
    "        baseline = x_train.median()\n",
    "    \n",
    "    residuals = x_train - yhat\n",
    "    residuals_baseline = x_train - baseline\n",
    "\n",
    "    \n",
    "    SSE =  (residuals ** 2).sum()\n",
    "    SSE_baseline = (residuals_baseline ** 2).sum()\n",
    "\n",
    "    print('~~ ~~ ~~ ~ ~ ~ ~ ~ ~ ~ ~ ~ ~ ~ ~ ~ ~~ ~~ ~~')\n",
    "    print('| SSE =', \"{:.1f}\".format(SSE),\"             |\")\n",
    "    print(\"| SSE Baseline =\", \"{:.1f}\".format(SSE_baseline),\"                     |\")\n",
    "    print('~~ ~~ ~~ ~ ~ ~ ~ ~ ~ ~ ~ ~ ~ ~ ~ ~ ~~ ~~ ~~')\n",
    "\n",
    "    MSE = SSE /len(x_train)\n",
    "    MSE_baseline = SSE_baseline/len(x_train)\n",
    "\n",
    "    print(f'| MSE = {MSE:.1f}','                   |')\n",
    "    print(f\"| MSE baseline = {MSE_baseline:.1f}\",\"                     |\")\n",
    "    print('~~ ~~ ~~ ~ ~ ~ ~ ~ ~ ~ ~ ~ ~ ~ ~ ~ ~~ ~~ ~~')\n",
    "\n",
    "    ESS = (([yhat] - y_train.mean())**2).sum()\n",
    "    ESS_baseline = (([baseline] - y_train.mean())**2).sum()\n",
    "    print(f\"| ESS = \", \"{:.1f}\".format(ESS),'            |')\n",
    "    print(f\"| ESS baseline = \", \"{:.1f}\".format(ESS_baseline),'         |')\n",
    "    print('~~ ~~ ~~ ~ ~ ~ ~ ~ ~ ~ ~ ~ ~ ~ ~ ~ ~~ ~~ ~~')\n",
    "\n",
    "    RMSE = MSE ** .5\n",
    "    RMSE_baseline = MSE_baseline ** .5\n",
    "    print(f\"| RMSE = \", \"{:.1f}\".format(RMSE),'                       |')\n",
    "    print(f\"| RMSE baseline = \", \"{:.1f}\".format(RMSE_baseline),'                   |')\n",
    "    print('~~ ~~ ~~ ~ ~ ~ ~ ~ ~ ~ ~ ~ ~ ~ ~ ~ ~~ ~~ ~~')\n",
    "\n",
    "    return SSE, SSE_baseline, MSE, MSE_baseline, ESS, ESS_baseline, RMSE, RMSE_baseline"
   ]
  },
  {
   "cell_type": "code",
   "execution_count": 138,
   "metadata": {},
   "outputs": [
    {
     "name": "stdout",
     "output_type": "stream",
     "text": [
      "~~ ~~ ~~ ~ ~ ~ ~ ~ ~ ~ ~ ~ ~ ~ ~ ~ ~~ ~~ ~~\n",
      "| SSE = 431458463630747712.0              |\n",
      "| SSE Baseline = 2.4                      |\n",
      "~~ ~~ ~~ ~ ~ ~ ~ ~ ~ ~ ~ ~ ~ ~ ~ ~ ~~ ~~ ~~\n",
      "| MSE = 314990665180.3                    |\n",
      "| MSE baseline = 0.0                      |\n",
      "~~ ~~ ~~ ~ ~ ~ ~ ~ ~ ~ ~ ~ ~ ~ ~ ~ ~~ ~~ ~~\n",
      "| ESS =  140210915479904592.0             |\n",
      "| ESS baseline =  212628252832.3          |\n",
      "~~ ~~ ~~ ~ ~ ~ ~ ~ ~ ~ ~ ~ ~ ~ ~ ~ ~~ ~~ ~~\n",
      "| RMSE =  561240.3                        |\n",
      "| RMSE baseline =  0.0                    |\n",
      "~~ ~~ ~~ ~ ~ ~ ~ ~ ~ ~ ~ ~ ~ ~ ~ ~ ~~ ~~ ~~\n"
     ]
    }
   ],
   "source": [
    "SSE, SSE_baseline, MSE, MSE_baseline, ESS, ESS_baseline, RMSE, RMSE_baseline = regression_errors(x_train=x_train['sq_feet'],yhat=x_train['yhat'],y_train=y_train)"
   ]
  },
  {
   "cell_type": "code",
   "execution_count": null,
   "metadata": {},
   "outputs": [],
   "source": []
  }
 ],
 "metadata": {
  "kernelspec": {
   "display_name": "codeup",
   "language": "python",
   "name": "python3"
  },
  "language_info": {
   "codemirror_mode": {
    "name": "ipython",
    "version": 3
   },
   "file_extension": ".py",
   "mimetype": "text/x-python",
   "name": "python",
   "nbconvert_exporter": "python",
   "pygments_lexer": "ipython3",
   "version": "3.11.4"
  },
  "orig_nbformat": 4
 },
 "nbformat": 4,
 "nbformat_minor": 2
}
