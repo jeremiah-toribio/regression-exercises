{
 "cells": [
  {
   "cell_type": "code",
   "execution_count": 6,
   "metadata": {},
   "outputs": [],
   "source": [
    "import env\n",
    "import os\n",
    "import wrangle as w\n",
    "# Ignore Warning\n",
    "import warnings\n",
    "warnings.filterwarnings(\"ignore\")\n",
    "# Array and Dataframes\n",
    "import numpy as np\n",
    "import pandas as pd\n",
    "# Imputer\n",
    "from sklearn.impute import SimpleImputer\n",
    "# Evaluation: Visualization\n",
    "import seaborn as sns\n",
    "import matplotlib.pyplot as plt\n",
    "plt.style.use('fivethirtyeight')\n",
    "# Evaluation: Statistical Analysis\n",
    "from scipy import stats\n",
    "# Modeling: Scaling\n",
    "from sklearn.preprocessing import QuantileTransformer, MinMaxScaler, StandardScaler, RobustScaler\n",
    "from sklearn.model_selection import train_test_split\n",
    "# Modeling\n",
    "from sklearn.linear_model import LinearRegression as lr\n",
    "from sklearn.model_selection import GridSearchCV\n",
    "# Metrics\n",
    "from sklearn.metrics import r2_score, mean_squared_error"
   ]
  },
  {
   "cell_type": "code",
   "execution_count": 3,
   "metadata": {},
   "outputs": [
    {
     "name": "stdout",
     "output_type": "stream",
     "text": [
      "File exists, pulling from system.\n"
     ]
    }
   ],
   "source": [
    "zillow = w.zillow()"
   ]
  },
  {
   "cell_type": "code",
   "execution_count": 4,
   "metadata": {},
   "outputs": [
    {
     "name": "stdout",
     "output_type": "stream",
     "text": [
      "Dataframe: (2140235, 7) 100%\n",
      "Train: (1369750, 7) | ~60%\n",
      "Validate: (342438, 7) | ~20%\n",
      "Test: (428047, 7) | ~20%\n"
     ]
    }
   ],
   "source": [
    "train, validate, test = w.splitter(zillow)"
   ]
  },
  {
   "cell_type": "code",
   "execution_count": 8,
   "metadata": {},
   "outputs": [
    {
     "data": {
      "text/html": [
       "<div>\n",
       "<style scoped>\n",
       "    .dataframe tbody tr th:only-of-type {\n",
       "        vertical-align: middle;\n",
       "    }\n",
       "\n",
       "    .dataframe tbody tr th {\n",
       "        vertical-align: top;\n",
       "    }\n",
       "\n",
       "    .dataframe thead th {\n",
       "        text-align: right;\n",
       "    }\n",
       "</style>\n",
       "<table border=\"1\" class=\"dataframe\">\n",
       "  <thead>\n",
       "    <tr style=\"text-align: right;\">\n",
       "      <th></th>\n",
       "      <th>bedroomcnt</th>\n",
       "      <th>bathroomcnt</th>\n",
       "      <th>calculatedfinishedsquarefeet</th>\n",
       "      <th>taxvaluedollarcnt</th>\n",
       "      <th>yearbuilt</th>\n",
       "      <th>taxamount</th>\n",
       "      <th>county</th>\n",
       "    </tr>\n",
       "  </thead>\n",
       "  <tbody>\n",
       "    <tr>\n",
       "      <th>353297</th>\n",
       "      <td>4</td>\n",
       "      <td>2.0</td>\n",
       "      <td>1834</td>\n",
       "      <td>520117</td>\n",
       "      <td>1969</td>\n",
       "      <td>5998.36</td>\n",
       "      <td>Orange</td>\n",
       "    </tr>\n",
       "    <tr>\n",
       "      <th>1185246</th>\n",
       "      <td>3</td>\n",
       "      <td>2.0</td>\n",
       "      <td>1694</td>\n",
       "      <td>378680</td>\n",
       "      <td>1949</td>\n",
       "      <td>4730.96</td>\n",
       "      <td>LA</td>\n",
       "    </tr>\n",
       "    <tr>\n",
       "      <th>452922</th>\n",
       "      <td>4</td>\n",
       "      <td>3.0</td>\n",
       "      <td>2295</td>\n",
       "      <td>432768</td>\n",
       "      <td>1978</td>\n",
       "      <td>5433.90</td>\n",
       "      <td>Ventura</td>\n",
       "    </tr>\n",
       "    <tr>\n",
       "      <th>163875</th>\n",
       "      <td>3</td>\n",
       "      <td>2.0</td>\n",
       "      <td>2182</td>\n",
       "      <td>393305</td>\n",
       "      <td>1969</td>\n",
       "      <td>4879.33</td>\n",
       "      <td>LA</td>\n",
       "    </tr>\n",
       "    <tr>\n",
       "      <th>27042</th>\n",
       "      <td>4</td>\n",
       "      <td>2.0</td>\n",
       "      <td>2187</td>\n",
       "      <td>131101</td>\n",
       "      <td>1945</td>\n",
       "      <td>1741.01</td>\n",
       "      <td>LA</td>\n",
       "    </tr>\n",
       "  </tbody>\n",
       "</table>\n",
       "</div>"
      ],
      "text/plain": [
       "         bedroomcnt  bathroomcnt  calculatedfinishedsquarefeet  \\\n",
       "353297            4          2.0                          1834   \n",
       "1185246           3          2.0                          1694   \n",
       "452922            4          3.0                          2295   \n",
       "163875            3          2.0                          2182   \n",
       "27042             4          2.0                          2187   \n",
       "\n",
       "         taxvaluedollarcnt  yearbuilt  taxamount   county  \n",
       "353297              520117       1969    5998.36   Orange  \n",
       "1185246             378680       1949    4730.96       LA  \n",
       "452922              432768       1978    5433.90  Ventura  \n",
       "163875              393305       1969    4879.33       LA  \n",
       "27042               131101       1945    1741.01       LA  "
      ]
     },
     "execution_count": 8,
     "metadata": {},
     "output_type": "execute_result"
    }
   ],
   "source": [
    "train.head()"
   ]
  },
  {
   "cell_type": "code",
   "execution_count": 17,
   "metadata": {},
   "outputs": [],
   "source": [
    "x_train = train[['calculatedfinishedsquarefeet']]\n",
    "y_train = train['taxvaluedollarcnt']\n",
    "x_validate = validate[['calculatedfinishedsquarefeet']]\n",
    "y_validate = validate['taxvaluedollarcnt']\n",
    "x_test = test[['calculatedfinishedsquarefeet']]\n",
    "y_test = test['taxvaluedollarcnt']\n"
   ]
  },
  {
   "cell_type": "code",
   "execution_count": 18,
   "metadata": {},
   "outputs": [],
   "source": [
    "model = lr().fit(x_train, y_train)\n",
    "predictions = model.predict(x_train)"
   ]
  },
  {
   "cell_type": "code",
   "execution_count": 33,
   "metadata": {},
   "outputs": [
    {
     "data": {
      "text/plain": [
       "calculatedfinishedsquarefeet    1863.39\n",
       "dtype: float64"
      ]
     },
     "execution_count": 33,
     "metadata": {},
     "output_type": "execute_result"
    }
   ],
   "source": [
    "baseline = x_train.mean().round(2)\n",
    "baseline"
   ]
  },
  {
   "cell_type": "code",
   "execution_count": 40,
   "metadata": {},
   "outputs": [
    {
     "data": {
      "text/plain": [
       "<matplotlib.lines.Line2D at 0x2b7d94b90>"
      ]
     },
     "execution_count": 40,
     "metadata": {},
     "output_type": "execute_result"
    },
    {
     "data": {
      "image/png": "[encoded data removed]",
      "text/plain": [
       "<Figure size 640x480 with 1 Axes>"
      ]
     },
     "metadata": {},
     "output_type": "display_data"
    }
   ],
   "source": [
    "plt.scatter(x_train, y_train)\n",
    "plt.axhline([[baseline]], ls=':')"
   ]
  },
  {
   "cell_type": "code",
   "execution_count": null,
   "metadata": {},
   "outputs": [],
   "source": []
  }
 ],
 "metadata": {
  "kernelspec": {
   "display_name": "codeup",
   "language": "python",
   "name": "python3"
  },
  "language_info": {
   "codemirror_mode": {
    "name": "ipython",
    "version": 3
   },
   "file_extension": ".py",
   "mimetype": "text/x-python",
   "name": "python",
   "nbconvert_exporter": "python",
   "pygments_lexer": "ipython3",
   "version": "3.11.4"
  },
  "orig_nbformat": 4
 },
 "nbformat": 4,
 "nbformat_minor": 2
}
