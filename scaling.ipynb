{
 "cells": [
  {
   "cell_type": "code",
   "execution_count": 1,
   "metadata": {},
   "outputs": [],
   "source": [
    "# My created .py files for modularization\n",
    "import env\n",
    "import os\n",
    "import wrangle as w\n",
    "# Ignore Warning\n",
    "import warnings\n",
    "warnings.filterwarnings(\"ignore\")\n",
    "# Array and Dataframes\n",
    "import numpy as np\n",
    "import pandas as pd\n",
    "# Imputer\n",
    "from sklearn.impute import SimpleImputer\n",
    "# Evaluation: Visualization\n",
    "import seaborn as sns\n",
    "import matplotlib.pyplot as plt\n",
    "plt.style.use('fivethirtyeight')\n",
    "# Evaluation: Statistical Analysis\n",
    "from scipy import stats\n",
    "# Modeling: Scaling\n",
    "from sklearn.preprocessing import QuantileTransformer, MinMaxScaler, StandardScaler, RobustScaler\n",
    "# Modeling\n",
    "from sklearn.model_selection import GridSearchCV\n",
    "from sklearn.neighbors import KNeighborsClassifier as knn\n",
    "# Metrics\n",
    "from sklearn.metrics import accuracy_score, precision_score, recall_score, classification_report, confusion_matrix, ConfusionMatrixDisplay"
   ]
  },
  {
   "cell_type": "code",
   "execution_count": 2,
   "metadata": {},
   "outputs": [
    {
     "name": "stdout",
     "output_type": "stream",
     "text": [
      "File exists pulling from system.\n"
     ]
    }
   ],
   "source": [
    "zillow = w.zillow()"
   ]
  },
  {
   "cell_type": "code",
   "execution_count": 3,
   "metadata": {},
   "outputs": [
    {
     "data": {
      "text/html": [
       "<div>\n",
       "<style scoped>\n",
       "    .dataframe tbody tr th:only-of-type {\n",
       "        vertical-align: middle;\n",
       "    }\n",
       "\n",
       "    .dataframe tbody tr th {\n",
       "        vertical-align: top;\n",
       "    }\n",
       "\n",
       "    .dataframe thead th {\n",
       "        text-align: right;\n",
       "    }\n",
       "</style>\n",
       "<table border=\"1\" class=\"dataframe\">\n",
       "  <thead>\n",
       "    <tr style=\"text-align: right;\">\n",
       "      <th></th>\n",
       "      <th>bedroomcnt</th>\n",
       "      <th>bathroomcnt</th>\n",
       "      <th>calculatedfinishedsquarefeet</th>\n",
       "      <th>taxvaluedollarcnt</th>\n",
       "      <th>yearbuilt</th>\n",
       "      <th>taxamount</th>\n",
       "      <th>county</th>\n",
       "    </tr>\n",
       "  </thead>\n",
       "  <tbody>\n",
       "    <tr>\n",
       "      <th>1275946</th>\n",
       "      <td>2.0</td>\n",
       "      <td>2.0</td>\n",
       "      <td>1600.0</td>\n",
       "      <td>374366.0</td>\n",
       "      <td>1978.0</td>\n",
       "      <td>4537.80</td>\n",
       "      <td>6037.0</td>\n",
       "    </tr>\n",
       "    <tr>\n",
       "      <th>264622</th>\n",
       "      <td>3.0</td>\n",
       "      <td>3.0</td>\n",
       "      <td>2087.0</td>\n",
       "      <td>631883.0</td>\n",
       "      <td>1956.0</td>\n",
       "      <td>7783.62</td>\n",
       "      <td>6037.0</td>\n",
       "    </tr>\n",
       "    <tr>\n",
       "      <th>283998</th>\n",
       "      <td>2.0</td>\n",
       "      <td>1.0</td>\n",
       "      <td>912.0</td>\n",
       "      <td>32460.0</td>\n",
       "      <td>1919.0</td>\n",
       "      <td>446.85</td>\n",
       "      <td>6037.0</td>\n",
       "    </tr>\n",
       "    <tr>\n",
       "      <th>1358518</th>\n",
       "      <td>4.0</td>\n",
       "      <td>3.0</td>\n",
       "      <td>2096.0</td>\n",
       "      <td>135977.0</td>\n",
       "      <td>1954.0</td>\n",
       "      <td>1853.34</td>\n",
       "      <td>6037.0</td>\n",
       "    </tr>\n",
       "    <tr>\n",
       "      <th>139307</th>\n",
       "      <td>4.0</td>\n",
       "      <td>4.5</td>\n",
       "      <td>4366.0</td>\n",
       "      <td>2001471.0</td>\n",
       "      <td>1998.0</td>\n",
       "      <td>20692.34</td>\n",
       "      <td>6059.0</td>\n",
       "    </tr>\n",
       "  </tbody>\n",
       "</table>\n",
       "</div>"
      ],
      "text/plain": [
       "         bedroomcnt  bathroomcnt  calculatedfinishedsquarefeet  \\\n",
       "1275946         2.0          2.0                        1600.0   \n",
       "264622          3.0          3.0                        2087.0   \n",
       "283998          2.0          1.0                         912.0   \n",
       "1358518         4.0          3.0                        2096.0   \n",
       "139307          4.0          4.5                        4366.0   \n",
       "\n",
       "         taxvaluedollarcnt  yearbuilt  taxamount  county  \n",
       "1275946           374366.0     1978.0    4537.80  6037.0  \n",
       "264622            631883.0     1956.0    7783.62  6037.0  \n",
       "283998             32460.0     1919.0     446.85  6037.0  \n",
       "1358518           135977.0     1954.0    1853.34  6037.0  \n",
       "139307           2001471.0     1998.0   20692.34  6059.0  "
      ]
     },
     "execution_count": 3,
     "metadata": {},
     "output_type": "execute_result"
    }
   ],
   "source": [
    "zillow.sample(5)"
   ]
  },
  {
   "cell_type": "code",
   "execution_count": 4,
   "metadata": {},
   "outputs": [
    {
     "name": "stdout",
     "output_type": "stream",
     "text": [
      "Dataframe: (2140235, 7) 100%\n",
      "Train: (1369750, 7) | ~60%\n",
      "Validate: (342438, 7) | ~20%\n",
      "Test: (428047, 7) | ~20%\n"
     ]
    }
   ],
   "source": [
    "# Splitting data for modeling\n",
    "train, validate, test = w.splitter(zillow,target='taxamount')\n"
   ]
  },
  {
   "cell_type": "code",
   "execution_count": 5,
   "metadata": {},
   "outputs": [],
   "source": [
    "scaleCols = train.loc[:,zillow.columns != ('taxamount','county')]"
   ]
  },
  {
   "cell_type": "code",
   "execution_count": 6,
   "metadata": {},
   "outputs": [],
   "source": [
    "# preview distributions -- cant really use because the size of dataset and outliers\n",
    "### how to see these distributions easier ###\n",
    "# for col in scaleCols.columns:\n",
    "#     plt.rcParams[\"figure.figsize\"] = [7.00, 3.50]\n",
    "#     plt.rcParams[\"figure.autolayout\"] = True\n",
    "#     sns.histplot(data=zillow, x=col)\n",
    "#     plt.title(col)\n",
    "#     plt.show()"
   ]
  },
  {
   "cell_type": "code",
   "execution_count": 7,
   "metadata": {},
   "outputs": [],
   "source": [
    "# assigning x and y\n",
    "x_train = train.loc[:,zillow.columns != ('taxamount','county')]\n",
    "y_train = train['taxamount']\n",
    "\n",
    "x_validate = validate.loc[:,zillow.columns != ('taxamount','county')]\n",
    "y_validate = validate['taxamount']\n",
    "\n",
    "x_test = test.loc[:,zillow.columns != ('taxamount','county')]\n",
    "y_test = test['taxamount']"
   ]
  },
  {
   "cell_type": "code",
   "execution_count": 10,
   "metadata": {},
   "outputs": [],
   "source": [
    "# train\n",
    "train_scaled_MinMax, train_scaled_S, train_scaled_R, validatevalidate_scaled_MinMax, validate_scaled_S, validate_scaled_R = w.ScaledTrain(x_train, x_validate)"
   ]
  },
  {
   "cell_type": "code",
   "execution_count": 11,
   "metadata": {},
   "outputs": [],
   "source": [
    "# model object\n",
    "model = knn()"
   ]
  },
  {
   "cell_type": "code",
   "execution_count": 21,
   "metadata": {},
   "outputs": [],
   "source": [
    "# Cant go into modeling with continious labe for categorical model\n",
    "#model.fit(train_scaled_MinMax, y_train)"
   ]
  },
  {
   "cell_type": "code",
   "execution_count": 17,
   "metadata": {},
   "outputs": [
    {
     "data": {
      "text/plain": [
       "array([[0.22222222, 0.0625    , 0.00192426, ..., 0.78139535, 0.00555149,\n",
       "        0.2972973 ],\n",
       "       [0.16666667, 0.0625    , 0.00177729, ..., 0.68837209, 0.00437589,\n",
       "        0.        ],\n",
       "       [0.22222222, 0.09375   , 0.00240821, ..., 0.82325581, 0.00502792,\n",
       "        1.        ],\n",
       "       ...,\n",
       "       [0.        , 0.03125   , 0.00130068, ..., 0.57674419, 0.0033095 ,\n",
       "        0.        ],\n",
       "       [0.22222222, 0.03125   , 0.00117051, ..., 0.72093023, 0.001369  ,\n",
       "        0.        ],\n",
       "       [0.11111111, 0.0625    , 0.001223  , ..., 0.78139535, 0.00526037,\n",
       "        0.2972973 ]])"
      ]
     },
     "execution_count": 17,
     "metadata": {},
     "output_type": "execute_result"
    }
   ],
   "source": [
    "scaler = MinMaxScaler()\n",
    "\n",
    "scaler.fit_transform(x_train)"
   ]
  },
  {
   "cell_type": "code",
   "execution_count": 19,
   "metadata": {},
   "outputs": [
    {
     "data": {
      "text/plain": [
       "array([[4.00000e+00, 2.00000e+00, 1.83400e+03, ..., 1.96900e+03,\n",
       "        5.99836e+03, 6.05900e+03],\n",
       "       [3.00000e+00, 2.00000e+00, 1.69400e+03, ..., 1.94900e+03,\n",
       "        4.73096e+03, 6.03700e+03],\n",
       "       [4.00000e+00, 3.00000e+00, 2.29500e+03, ..., 1.97800e+03,\n",
       "        5.43390e+03, 6.11100e+03],\n",
       "       ...,\n",
       "       [0.00000e+00, 1.00000e+00, 1.24000e+03, ..., 1.92500e+03,\n",
       "        3.58129e+03, 6.03700e+03],\n",
       "       [4.00000e+00, 1.00000e+00, 1.11600e+03, ..., 1.95600e+03,\n",
       "        1.48926e+03, 6.03700e+03],\n",
       "       [2.00000e+00, 2.00000e+00, 1.16600e+03, ..., 1.96900e+03,\n",
       "        5.68450e+03, 6.05900e+03]])"
      ]
     },
     "execution_count": 19,
     "metadata": {},
     "output_type": "execute_result"
    }
   ],
   "source": [
    "back_to_x_train = scaler.inverse_transform(train_scaled_MinMax)\n",
    "back_to_x_train"
   ]
  },
  {
   "cell_type": "code",
   "execution_count": null,
   "metadata": {},
   "outputs": [
    {
     "data": {
      "text/plain": [
       "<Axes: ylabel='Count'>"
      ]
     },
     "execution_count": 26,
     "metadata": {},
     "output_type": "execute_result"
    },
    {
     "data": {
      "image/png": "[encoded data removed]",
      "text/plain": [
       "<Figure size 700x350 with 1 Axes>"
      ]
     },
     "metadata": {},
     "output_type": "display_data"
    }
   ],
   "source": [
    "sns.histplot(data=train_scaled_MinMax)"
   ]
  },
  {
   "cell_type": "code",
   "execution_count": null,
   "metadata": {},
   "outputs": [
    {
     "ename": "KeyboardInterrupt",
     "evalue": "",
     "output_type": "error",
     "traceback": [
      "\u001b[0;31m---------------------------------------------------------------------------\u001b[0m",
      "\u001b[0;31mKeyboardInterrupt\u001b[0m                         Traceback (most recent call last)",
      "Cell \u001b[0;32mIn[28], line 1\u001b[0m\n\u001b[0;32m----> 1\u001b[0m sns\u001b[39m.\u001b[39;49mhistplot(data\u001b[39m=\u001b[39;49mscaleCols)\n",
      "File \u001b[0;32m/opt/homebrew/Caskroom/miniforge/base/envs/codeup/lib/python3.11/site-packages/seaborn/distributions.py:1432\u001b[0m, in \u001b[0;36mhistplot\u001b[0;34m(data, x, y, hue, weights, stat, bins, binwidth, binrange, discrete, cumulative, common_bins, common_norm, multiple, element, fill, shrink, kde, kde_kws, line_kws, thresh, pthresh, pmax, cbar, cbar_ax, cbar_kws, palette, hue_order, hue_norm, color, log_scale, legend, ax, **kwargs)\u001b[0m\n\u001b[1;32m   1421\u001b[0m estimate_kws \u001b[39m=\u001b[39m \u001b[39mdict\u001b[39m(\n\u001b[1;32m   1422\u001b[0m     stat\u001b[39m=\u001b[39mstat,\n\u001b[1;32m   1423\u001b[0m     bins\u001b[39m=\u001b[39mbins,\n\u001b[0;32m   (...)\u001b[0m\n\u001b[1;32m   1427\u001b[0m     cumulative\u001b[39m=\u001b[39mcumulative,\n\u001b[1;32m   1428\u001b[0m )\n\u001b[1;32m   1430\u001b[0m \u001b[39mif\u001b[39;00m p\u001b[39m.\u001b[39munivariate:\n\u001b[0;32m-> 1432\u001b[0m     p\u001b[39m.\u001b[39;49mplot_univariate_histogram(\n\u001b[1;32m   1433\u001b[0m         multiple\u001b[39m=\u001b[39;49mmultiple,\n\u001b[1;32m   1434\u001b[0m         element\u001b[39m=\u001b[39;49melement,\n\u001b[1;32m   1435\u001b[0m         fill\u001b[39m=\u001b[39;49mfill,\n\u001b[1;32m   1436\u001b[0m         shrink\u001b[39m=\u001b[39;49mshrink,\n\u001b[1;32m   1437\u001b[0m         common_norm\u001b[39m=\u001b[39;49mcommon_norm,\n\u001b[1;32m   1438\u001b[0m         common_bins\u001b[39m=\u001b[39;49mcommon_bins,\n\u001b[1;32m   1439\u001b[0m         kde\u001b[39m=\u001b[39;49mkde,\n\u001b[1;32m   1440\u001b[0m         kde_kws\u001b[39m=\u001b[39;49mkde_kws,\n\u001b[1;32m   1441\u001b[0m         color\u001b[39m=\u001b[39;49mcolor,\n\u001b[1;32m   1442\u001b[0m         legend\u001b[39m=\u001b[39;49mlegend,\n\u001b[1;32m   1443\u001b[0m         estimate_kws\u001b[39m=\u001b[39;49mestimate_kws,\n\u001b[1;32m   1444\u001b[0m         line_kws\u001b[39m=\u001b[39;49mline_kws,\n\u001b[1;32m   1445\u001b[0m         \u001b[39m*\u001b[39;49m\u001b[39m*\u001b[39;49mkwargs,\n\u001b[1;32m   1446\u001b[0m     )\n\u001b[1;32m   1448\u001b[0m \u001b[39melse\u001b[39;00m:\n\u001b[1;32m   1450\u001b[0m     p\u001b[39m.\u001b[39mplot_bivariate_histogram(\n\u001b[1;32m   1451\u001b[0m         common_bins\u001b[39m=\u001b[39mcommon_bins,\n\u001b[1;32m   1452\u001b[0m         common_norm\u001b[39m=\u001b[39mcommon_norm,\n\u001b[0;32m   (...)\u001b[0m\n\u001b[1;32m   1462\u001b[0m         \u001b[39m*\u001b[39m\u001b[39m*\u001b[39mkwargs,\n\u001b[1;32m   1463\u001b[0m     )\n",
      "File \u001b[0;32m/opt/homebrew/Caskroom/miniforge/base/envs/codeup/lib/python3.11/site-packages/seaborn/distributions.py:575\u001b[0m, in \u001b[0;36m_DistributionPlotter.plot_univariate_histogram\u001b[0;34m(self, multiple, element, fill, common_norm, common_bins, shrink, kde, kde_kws, color, legend, line_kws, estimate_kws, **plot_kws)\u001b[0m\n\u001b[1;32m    570\u001b[0m \u001b[39mif\u001b[39;00m element \u001b[39m==\u001b[39m \u001b[39m\"\u001b[39m\u001b[39mbars\u001b[39m\u001b[39m\"\u001b[39m:\n\u001b[1;32m    571\u001b[0m \n\u001b[1;32m    572\u001b[0m     \u001b[39m# Use matplotlib bar plotting\u001b[39;00m\n\u001b[1;32m    574\u001b[0m     plot_func \u001b[39m=\u001b[39m ax\u001b[39m.\u001b[39mbar \u001b[39mif\u001b[39;00m \u001b[39mself\u001b[39m\u001b[39m.\u001b[39mdata_variable \u001b[39m==\u001b[39m \u001b[39m\"\u001b[39m\u001b[39mx\u001b[39m\u001b[39m\"\u001b[39m \u001b[39melse\u001b[39;00m ax\u001b[39m.\u001b[39mbarh\n\u001b[0;32m--> 575\u001b[0m     artists \u001b[39m=\u001b[39m plot_func(\n\u001b[1;32m    576\u001b[0m         hist[\u001b[39m\"\u001b[39;49m\u001b[39medges\u001b[39;49m\u001b[39m\"\u001b[39;49m],\n\u001b[1;32m    577\u001b[0m         hist[\u001b[39m\"\u001b[39;49m\u001b[39mheights\u001b[39;49m\u001b[39m\"\u001b[39;49m] \u001b[39m-\u001b[39;49m bottom,\n\u001b[1;32m    578\u001b[0m         hist[\u001b[39m\"\u001b[39;49m\u001b[39mwidths\u001b[39;49m\u001b[39m\"\u001b[39;49m],\n\u001b[1;32m    579\u001b[0m         bottom,\n\u001b[1;32m    580\u001b[0m         align\u001b[39m=\u001b[39;49m\u001b[39m\"\u001b[39;49m\u001b[39medge\u001b[39;49m\u001b[39m\"\u001b[39;49m,\n\u001b[1;32m    581\u001b[0m         \u001b[39m*\u001b[39;49m\u001b[39m*\u001b[39;49martist_kws,\n\u001b[1;32m    582\u001b[0m     )\n\u001b[1;32m    584\u001b[0m     \u001b[39mfor\u001b[39;00m bar \u001b[39min\u001b[39;00m artists:\n\u001b[1;32m    585\u001b[0m         \u001b[39mif\u001b[39;00m \u001b[39mself\u001b[39m\u001b[39m.\u001b[39mdata_variable \u001b[39m==\u001b[39m \u001b[39m\"\u001b[39m\u001b[39mx\u001b[39m\u001b[39m\"\u001b[39m:\n",
      "File \u001b[0;32m/opt/homebrew/Caskroom/miniforge/base/envs/codeup/lib/python3.11/site-packages/matplotlib/__init__.py:1442\u001b[0m, in \u001b[0;36m_preprocess_data.<locals>.inner\u001b[0;34m(ax, data, *args, **kwargs)\u001b[0m\n\u001b[1;32m   1439\u001b[0m \u001b[39m@functools\u001b[39m\u001b[39m.\u001b[39mwraps(func)\n\u001b[1;32m   1440\u001b[0m \u001b[39mdef\u001b[39;00m \u001b[39minner\u001b[39m(ax, \u001b[39m*\u001b[39margs, data\u001b[39m=\u001b[39m\u001b[39mNone\u001b[39;00m, \u001b[39m*\u001b[39m\u001b[39m*\u001b[39mkwargs):\n\u001b[1;32m   1441\u001b[0m     \u001b[39mif\u001b[39;00m data \u001b[39mis\u001b[39;00m \u001b[39mNone\u001b[39;00m:\n\u001b[0;32m-> 1442\u001b[0m         \u001b[39mreturn\u001b[39;00m func(ax, \u001b[39m*\u001b[39;49m\u001b[39mmap\u001b[39;49m(sanitize_sequence, args), \u001b[39m*\u001b[39;49m\u001b[39m*\u001b[39;49mkwargs)\n\u001b[1;32m   1444\u001b[0m     bound \u001b[39m=\u001b[39m new_sig\u001b[39m.\u001b[39mbind(ax, \u001b[39m*\u001b[39margs, \u001b[39m*\u001b[39m\u001b[39m*\u001b[39mkwargs)\n\u001b[1;32m   1445\u001b[0m     auto_label \u001b[39m=\u001b[39m (bound\u001b[39m.\u001b[39marguments\u001b[39m.\u001b[39mget(label_namer)\n\u001b[1;32m   1446\u001b[0m                   \u001b[39mor\u001b[39;00m bound\u001b[39m.\u001b[39mkwargs\u001b[39m.\u001b[39mget(label_namer))\n",
      "File \u001b[0;32m/opt/homebrew/Caskroom/miniforge/base/envs/codeup/lib/python3.11/site-packages/matplotlib/axes/_axes.py:2494\u001b[0m, in \u001b[0;36mAxes.bar\u001b[0;34m(self, x, height, width, bottom, align, **kwargs)\u001b[0m\n\u001b[1;32m   2492\u001b[0m     \u001b[39melse\u001b[39;00m:  \u001b[39m# horizontal\u001b[39;00m\n\u001b[1;32m   2493\u001b[0m         r\u001b[39m.\u001b[39msticky_edges\u001b[39m.\u001b[39mx\u001b[39m.\u001b[39mappend(l)\n\u001b[0;32m-> 2494\u001b[0m     \u001b[39mself\u001b[39;49m\u001b[39m.\u001b[39;49madd_patch(r)\n\u001b[1;32m   2495\u001b[0m     patches\u001b[39m.\u001b[39mappend(r)\n\u001b[1;32m   2497\u001b[0m \u001b[39mif\u001b[39;00m xerr \u001b[39mis\u001b[39;00m \u001b[39mnot\u001b[39;00m \u001b[39mNone\u001b[39;00m \u001b[39mor\u001b[39;00m yerr \u001b[39mis\u001b[39;00m \u001b[39mnot\u001b[39;00m \u001b[39mNone\u001b[39;00m:\n",
      "File \u001b[0;32m/opt/homebrew/Caskroom/miniforge/base/envs/codeup/lib/python3.11/site-packages/matplotlib/axes/_base.py:2379\u001b[0m, in \u001b[0;36m_AxesBase.add_patch\u001b[0;34m(self, p)\u001b[0m\n\u001b[1;32m   2377\u001b[0m \u001b[39mif\u001b[39;00m p\u001b[39m.\u001b[39mget_clip_path() \u001b[39mis\u001b[39;00m \u001b[39mNone\u001b[39;00m:\n\u001b[1;32m   2378\u001b[0m     p\u001b[39m.\u001b[39mset_clip_path(\u001b[39mself\u001b[39m\u001b[39m.\u001b[39mpatch)\n\u001b[0;32m-> 2379\u001b[0m \u001b[39mself\u001b[39;49m\u001b[39m.\u001b[39;49m_update_patch_limits(p)\n\u001b[1;32m   2380\u001b[0m \u001b[39mself\u001b[39m\u001b[39m.\u001b[39m_children\u001b[39m.\u001b[39mappend(p)\n\u001b[1;32m   2381\u001b[0m p\u001b[39m.\u001b[39m_remove_method \u001b[39m=\u001b[39m \u001b[39mself\u001b[39m\u001b[39m.\u001b[39m_children\u001b[39m.\u001b[39mremove\n",
      "File \u001b[0;32m/opt/homebrew/Caskroom/miniforge/base/envs/codeup/lib/python3.11/site-packages/matplotlib/axes/_base.py:2411\u001b[0m, in \u001b[0;36m_AxesBase._update_patch_limits\u001b[0;34m(self, patch)\u001b[0m\n\u001b[1;32m   2408\u001b[0m     vertices \u001b[39m=\u001b[39m np\u001b[39m.\u001b[39mrow_stack(vertices)\n\u001b[1;32m   2410\u001b[0m patch_trf \u001b[39m=\u001b[39m patch\u001b[39m.\u001b[39mget_transform()\n\u001b[0;32m-> 2411\u001b[0m updatex, updatey \u001b[39m=\u001b[39m patch_trf\u001b[39m.\u001b[39;49mcontains_branch_seperately(\u001b[39mself\u001b[39;49m\u001b[39m.\u001b[39;49mtransData)\n\u001b[1;32m   2412\u001b[0m \u001b[39mif\u001b[39;00m \u001b[39mnot\u001b[39;00m (updatex \u001b[39mor\u001b[39;00m updatey):\n\u001b[1;32m   2413\u001b[0m     \u001b[39mreturn\u001b[39;00m\n",
      "File \u001b[0;32m/opt/homebrew/Caskroom/miniforge/base/envs/codeup/lib/python3.11/site-packages/matplotlib/transforms.py:1411\u001b[0m, in \u001b[0;36mTransform.contains_branch_seperately\u001b[0;34m(self, other_transform)\u001b[0m\n\u001b[1;32m   1407\u001b[0m     \u001b[39mraise\u001b[39;00m \u001b[39mValueError\u001b[39;00m(\u001b[39m'\u001b[39m\u001b[39mcontains_branch_seperately only supports \u001b[39m\u001b[39m'\u001b[39m\n\u001b[1;32m   1408\u001b[0m                      \u001b[39m'\u001b[39m\u001b[39mtransforms with 2 output dimensions\u001b[39m\u001b[39m'\u001b[39m)\n\u001b[1;32m   1409\u001b[0m \u001b[39m# for a non-blended transform each separate dimension is the same, so\u001b[39;00m\n\u001b[1;32m   1410\u001b[0m \u001b[39m# just return the appropriate shape.\u001b[39;00m\n\u001b[0;32m-> 1411\u001b[0m \u001b[39mreturn\u001b[39;00m [\u001b[39mself\u001b[39;49m\u001b[39m.\u001b[39;49mcontains_branch(other_transform)] \u001b[39m*\u001b[39m \u001b[39m2\u001b[39m\n",
      "File \u001b[0;32m/opt/homebrew/Caskroom/miniforge/base/envs/codeup/lib/python3.11/site-packages/matplotlib/transforms.py:1390\u001b[0m, in \u001b[0;36mTransform.contains_branch\u001b[0;34m(self, other)\u001b[0m\n\u001b[1;32m   1387\u001b[0m     \u001b[39mreturn\u001b[39;00m \u001b[39mFalse\u001b[39;00m\n\u001b[1;32m   1389\u001b[0m \u001b[39m# check that a subtree is equal to other (starting from self)\u001b[39;00m\n\u001b[0;32m-> 1390\u001b[0m \u001b[39mfor\u001b[39;00m _, sub_tree \u001b[39min\u001b[39;00m \u001b[39mself\u001b[39m\u001b[39m.\u001b[39m_iter_break_from_left_to_right():\n\u001b[1;32m   1391\u001b[0m     \u001b[39mif\u001b[39;00m sub_tree \u001b[39m==\u001b[39m other:\n\u001b[1;32m   1392\u001b[0m         \u001b[39mreturn\u001b[39;00m \u001b[39mTrue\u001b[39;00m\n",
      "File \u001b[0;32m/opt/homebrew/Caskroom/miniforge/base/envs/codeup/lib/python3.11/site-packages/matplotlib/transforms.py:2399\u001b[0m, in \u001b[0;36mCompositeGenericTransform._iter_break_from_left_to_right\u001b[0;34m(self)\u001b[0m\n\u001b[1;32m   2398\u001b[0m \u001b[39mdef\u001b[39;00m \u001b[39m_iter_break_from_left_to_right\u001b[39m(\u001b[39mself\u001b[39m):\n\u001b[0;32m-> 2399\u001b[0m     \u001b[39mfor\u001b[39;00m left, right \u001b[39min\u001b[39;00m \u001b[39mself\u001b[39m\u001b[39m.\u001b[39m_a\u001b[39m.\u001b[39m_iter_break_from_left_to_right():\n\u001b[1;32m   2400\u001b[0m         \u001b[39myield\u001b[39;00m left, right \u001b[39m+\u001b[39m \u001b[39mself\u001b[39m\u001b[39m.\u001b[39m_b\n\u001b[1;32m   2401\u001b[0m     \u001b[39mfor\u001b[39;00m left, right \u001b[39min\u001b[39;00m \u001b[39mself\u001b[39m\u001b[39m.\u001b[39m_b\u001b[39m.\u001b[39m_iter_break_from_left_to_right():\n",
      "File \u001b[0;32m/opt/homebrew/Caskroom/miniforge/base/envs/codeup/lib/python3.11/site-packages/matplotlib/transforms.py:2400\u001b[0m, in \u001b[0;36mCompositeGenericTransform._iter_break_from_left_to_right\u001b[0;34m(self)\u001b[0m\n\u001b[1;32m   2398\u001b[0m \u001b[39mdef\u001b[39;00m \u001b[39m_iter_break_from_left_to_right\u001b[39m(\u001b[39mself\u001b[39m):\n\u001b[1;32m   2399\u001b[0m     \u001b[39mfor\u001b[39;00m left, right \u001b[39min\u001b[39;00m \u001b[39mself\u001b[39m\u001b[39m.\u001b[39m_a\u001b[39m.\u001b[39m_iter_break_from_left_to_right():\n\u001b[0;32m-> 2400\u001b[0m         \u001b[39myield\u001b[39;00m left, right \u001b[39m+\u001b[39;49m \u001b[39mself\u001b[39;49m\u001b[39m.\u001b[39;49m_b\n\u001b[1;32m   2401\u001b[0m     \u001b[39mfor\u001b[39;00m left, right \u001b[39min\u001b[39;00m \u001b[39mself\u001b[39m\u001b[39m.\u001b[39m_b\u001b[39m.\u001b[39m_iter_break_from_left_to_right():\n\u001b[1;32m   2402\u001b[0m         \u001b[39myield\u001b[39;00m \u001b[39mself\u001b[39m\u001b[39m.\u001b[39m_a \u001b[39m+\u001b[39m left, right\n",
      "File \u001b[0;32m/opt/homebrew/Caskroom/miniforge/base/envs/codeup/lib/python3.11/site-packages/matplotlib/transforms.py:1342\u001b[0m, in \u001b[0;36mTransform.__add__\u001b[0;34m(self, other)\u001b[0m\n\u001b[1;32m   1335\u001b[0m \u001b[39mdef\u001b[39;00m \u001b[39m__add__\u001b[39m(\u001b[39mself\u001b[39m, other):\n\u001b[1;32m   1336\u001b[0m \u001b[39m    \u001b[39m\u001b[39m\"\"\"\u001b[39;00m\n\u001b[1;32m   1337\u001b[0m \u001b[39m    Compose two transforms together so that *self* is followed by *other*.\u001b[39;00m\n\u001b[1;32m   1338\u001b[0m \n\u001b[1;32m   1339\u001b[0m \u001b[39m    ``A + B`` returns a transform ``C`` so that\u001b[39;00m\n\u001b[1;32m   1340\u001b[0m \u001b[39m    ``C.transform(x) == B.transform(A.transform(x))``.\u001b[39;00m\n\u001b[1;32m   1341\u001b[0m \u001b[39m    \"\"\"\u001b[39;00m\n\u001b[0;32m-> 1342\u001b[0m     \u001b[39mreturn\u001b[39;00m (composite_transform_factory(\u001b[39mself\u001b[39;49m, other)\n\u001b[1;32m   1343\u001b[0m             \u001b[39mif\u001b[39;00m \u001b[39misinstance\u001b[39m(other, Transform) \u001b[39melse\u001b[39;00m\n\u001b[1;32m   1344\u001b[0m             \u001b[39mNotImplemented\u001b[39m)\n",
      "File \u001b[0;32m/opt/homebrew/Caskroom/miniforge/base/envs/codeup/lib/python3.11/site-packages/matplotlib/transforms.py:2527\u001b[0m, in \u001b[0;36mcomposite_transform_factory\u001b[0;34m(a, b)\u001b[0m\n\u001b[1;32m   2525\u001b[0m \u001b[39melif\u001b[39;00m \u001b[39misinstance\u001b[39m(a, Affine2D) \u001b[39mand\u001b[39;00m \u001b[39misinstance\u001b[39m(b, Affine2D):\n\u001b[1;32m   2526\u001b[0m     \u001b[39mreturn\u001b[39;00m CompositeAffine2D(a, b)\n\u001b[0;32m-> 2527\u001b[0m \u001b[39mreturn\u001b[39;00m CompositeGenericTransform(a, b)\n",
      "File \u001b[0;32m/opt/homebrew/Caskroom/miniforge/base/envs/codeup/lib/python3.11/site-packages/matplotlib/transforms.py:2362\u001b[0m, in \u001b[0;36mCompositeGenericTransform.__init__\u001b[0;34m(self, a, b, **kwargs)\u001b[0m\n\u001b[1;32m   2359\u001b[0m \u001b[39mself\u001b[39m\u001b[39m.\u001b[39minput_dims \u001b[39m=\u001b[39m a\u001b[39m.\u001b[39minput_dims\n\u001b[1;32m   2360\u001b[0m \u001b[39mself\u001b[39m\u001b[39m.\u001b[39moutput_dims \u001b[39m=\u001b[39m b\u001b[39m.\u001b[39moutput_dims\n\u001b[0;32m-> 2362\u001b[0m \u001b[39msuper\u001b[39m()\u001b[39m.\u001b[39m\u001b[39m__init__\u001b[39m(\u001b[39m*\u001b[39m\u001b[39m*\u001b[39mkwargs)\n\u001b[1;32m   2363\u001b[0m \u001b[39mself\u001b[39m\u001b[39m.\u001b[39m_a \u001b[39m=\u001b[39m a\n\u001b[1;32m   2364\u001b[0m \u001b[39mself\u001b[39m\u001b[39m.\u001b[39m_b \u001b[39m=\u001b[39m b\n",
      "\u001b[0;31mKeyboardInterrupt\u001b[0m: "
     ]
    }
   ],
   "source": [
    "sns.histplot(data=train,x=scaleCols)"
   ]
  },
  {
   "cell_type": "code",
   "execution_count": null,
   "metadata": {},
   "outputs": [],
   "source": []
  }
 ],
 "metadata": {
  "kernelspec": {
   "display_name": "codeup",
   "language": "python",
   "name": "python3"
  },
  "language_info": {
   "codemirror_mode": {
    "name": "ipython",
    "version": 3
   },
   "file_extension": ".py",
   "mimetype": "text/x-python",
   "name": "python",
   "nbconvert_exporter": "python",
   "pygments_lexer": "ipython3",
   "version": "3.11.4"
  },
  "orig_nbformat": 4
 },
 "nbformat": 4,
 "nbformat_minor": 2
}
